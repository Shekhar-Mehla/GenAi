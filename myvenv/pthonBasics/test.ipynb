{
 "cells": [
  {
   "cell_type": "code",
   "execution_count": 2,
   "id": "4eb5a0ca",
   "metadata": {},
   "outputs": [
    {
     "name": "stdout",
     "output_type": "stream",
     "text": [
      "hello wordl\n"
     ]
    }
   ],
   "source": [
    "\n",
    "\n",
    "\n",
    "\n",
    "print(\"hello wordl\")"
   ]
  },
  {
   "cell_type": "code",
   "execution_count": 19,
   "id": "6c9bc4e9",
   "metadata": {},
   "outputs": [
    {
     "name": "stdout",
     "output_type": "stream",
     "text": [
      "hell world  hhhhh$"
     ]
    }
   ],
   "source": [
    "# learning from basic of pyhton \n",
    "\n",
    "print(\"hell world\",\"hhhhh\",sep=\"  \",end =\"$\")"
   ]
  },
  {
   "cell_type": "code",
   "execution_count": 21,
   "id": "678f7f65",
   "metadata": {},
   "outputs": [
    {
     "name": "stdout",
     "output_type": "stream",
     "text": [
      "10\n"
     ]
    }
   ],
   "source": [
    "# this is a line continatition\n",
    "p = 1+2+3+\\\n",
    "4\n",
    "print(p)"
   ]
  },
  {
   "cell_type": "code",
   "execution_count": 3,
   "id": "7cb19431",
   "metadata": {},
   "outputs": [
    {
     "name": "stdout",
     "output_type": "stream",
     "text": [
      "15\n",
      "shekhar\n"
     ]
    }
   ],
   "source": [
    "# writing the multiple statement in a single lione\n",
    "x= 5;y = 10; z = x+y;print(z);\n",
    "p = input(\"helll:\"\n",
    "\"\");print(p)"
   ]
  },
  {
   "cell_type": "code",
   "execution_count": 7,
   "id": "4999ed36",
   "metadata": {},
   "outputs": [
    {
     "name": "stdout",
     "output_type": "stream",
     "text": [
      "your age is true\n"
     ]
    }
   ],
   "source": [
    "age=input(\"enter\" )\n",
    "age = int(age)\n",
    "if age==10:\n",
    "  print(\"your age is true\")\n",
    "else:\n",
    "  print(\"your age is :\",age)\n"
   ]
  },
  {
   "cell_type": "code",
   "execution_count": 16,
   "id": "a7754072",
   "metadata": {},
   "outputs": [
    {
     "name": "stdout",
     "output_type": "stream",
     "text": [
      "you are minor\n"
     ]
    }
   ],
   "source": [
    "# write the program which can check the age of the candidate and determine if they can vote or not \n",
    "age = int(input(\"enter your age:\"))\n",
    "\n",
    "if age>=18 and age<=70:\n",
    "  print(\"you can vote in this election\")\n",
    "elif age>70:\n",
    "  print(\"you are too old \")\n",
    "else:\n",
    "  print(\"you are minor\")"
   ]
  },
  {
   "cell_type": "code",
   "execution_count": null,
   "id": "411cc2bb",
   "metadata": {},
   "outputs": [],
   "source": []
  }
 ],
 "metadata": {
  "kernelspec": {
   "display_name": "myvenv",
   "language": "python",
   "name": "python3"
  },
  "language_info": {
   "codemirror_mode": {
    "name": "ipython",
    "version": 3
   },
   "file_extension": ".py",
   "mimetype": "text/x-python",
   "name": "python",
   "nbconvert_exporter": "python",
   "pygments_lexer": "ipython3",
   "version": "3.12.2"
  }
 },
 "nbformat": 4,
 "nbformat_minor": 5
}
