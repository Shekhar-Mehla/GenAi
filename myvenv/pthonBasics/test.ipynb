{
 "cells": [
  {
   "cell_type": "code",
   "execution_count": 37,
   "id": "4eb5a0ca",
   "metadata": {},
   "outputs": [
    {
     "name": "stdout",
     "output_type": "stream",
     "text": [
      "hello wordl\n"
     ]
    }
   ],
   "source": [
    "\n",
    "\n",
    "\n",
    "\n",
    "print(\"hello wordl\")"
   ]
  },
  {
   "cell_type": "code",
   "execution_count": 38,
   "id": "6c9bc4e9",
   "metadata": {},
   "outputs": [
    {
     "name": "stdout",
     "output_type": "stream",
     "text": [
      "hell world  hhhhh$"
     ]
    }
   ],
   "source": [
    "# learning from basic of pyhton \n",
    "\n",
    "print(\"hell world\",\"hhhhh\",sep=\"  \",end =\"$\")"
   ]
  },
  {
   "cell_type": "code",
   "execution_count": 39,
   "id": "678f7f65",
   "metadata": {},
   "outputs": [
    {
     "name": "stdout",
     "output_type": "stream",
     "text": [
      "10\n"
     ]
    }
   ],
   "source": [
    "# this is a line continatition\n",
    "p = 1+2+3+\\\n",
    "4\n",
    "print(p)"
   ]
  },
  {
   "cell_type": "code",
   "execution_count": null,
   "id": "7cb19431",
   "metadata": {},
   "outputs": [
    {
     "name": "stdout",
     "output_type": "stream",
     "text": [
      "15\n"
     ]
    }
   ],
   "source": [
    "# writing the multiple statement in a single lione\n",
    "x= 5;y = 10; z = x+y;print(z);\n",
    "p = input(\"helll:\"\n",
    "\"\");print(p)"
   ]
  },
  {
   "cell_type": "code",
   "execution_count": null,
   "id": "4999ed36",
   "metadata": {},
   "outputs": [
    {
     "ename": "ValueError",
     "evalue": "invalid literal for int() with base 10: ''",
     "output_type": "error",
     "traceback": [
      "\u001b[31m---------------------------------------------------------------------------\u001b[39m",
      "\u001b[31mValueError\u001b[39m                                Traceback (most recent call last)",
      "\u001b[36mCell\u001b[39m\u001b[36m \u001b[39m\u001b[32mIn[5]\u001b[39m\u001b[32m, line 2\u001b[39m\n\u001b[32m      1\u001b[39m age=\u001b[38;5;28minput\u001b[39m(\u001b[33m\"\u001b[39m\u001b[33menter\u001b[39m\u001b[33m\"\u001b[39m )\n\u001b[32m----> \u001b[39m\u001b[32m2\u001b[39m age = \u001b[38;5;28;43mint\u001b[39;49m\u001b[43m(\u001b[49m\u001b[43mage\u001b[49m\u001b[43m)\u001b[49m\n\u001b[32m      3\u001b[39m \u001b[38;5;28;01mif\u001b[39;00m age==\u001b[32m10\u001b[39m:\n\u001b[32m      4\u001b[39m   \u001b[38;5;28mprint\u001b[39m(\u001b[33m\"\u001b[39m\u001b[33myour age is true\u001b[39m\u001b[33m\"\u001b[39m)\n",
      "\u001b[31mValueError\u001b[39m: invalid literal for int() with base 10: ''"
     ]
    }
   ],
   "source": [
    "age=input(\"enter\" )\n",
    "age = int(age)\n",
    "if age==10:\n",
    "  print(\"your age is true\")\n",
    "else:\n",
    "  print(\"your age is :\",age)\n"
   ]
  },
  {
   "cell_type": "code",
   "execution_count": null,
   "id": "a7754072",
   "metadata": {},
   "outputs": [
    {
     "name": "stdout",
     "output_type": "stream",
     "text": [
      "you can vote in this election\n"
     ]
    }
   ],
   "source": [
    "# write the program which can check the age of the candidate and determine if they can vote or not \n",
    "age = int(input(\"enter your age:\"))\n",
    "\n",
    "if age>=18 and age<=70:\n",
    "  print(\"you can vote in this election\")\n",
    "elif age>70:\n",
    "  print(\"you are too old \")\n",
    "else:\n",
    "  print(\"you are minor\")"
   ]
  },
  {
   "cell_type": "code",
   "execution_count": null,
   "id": "411cc2bb",
   "metadata": {},
   "outputs": [
    {
     "data": {
      "text/plain": [
       "range(1, 4)"
      ]
     },
     "execution_count": 22,
     "metadata": {},
     "output_type": "execute_result"
    }
   ],
   "source": [
    "range(1,4\n",
    "      )"
   ]
  },
  {
   "cell_type": "code",
   "execution_count": null,
   "id": "c5cacc14",
   "metadata": {},
   "outputs": [],
   "source": []
  },
  {
   "cell_type": "code",
   "execution_count": null,
   "id": "62184a54",
   "metadata": {},
   "outputs": [],
   "source": []
  },
  {
   "cell_type": "code",
   "execution_count": null,
   "id": "38d34117",
   "metadata": {},
   "outputs": [
    {
     "name": "stdout",
     "output_type": "stream",
     "text": [
      "10\n",
      "8\n",
      "6\n",
      "4\n",
      "2\n"
     ]
    }
   ],
   "source": [
    "for i in range(10,1,-2 ):\n",
    "  print(i)"
   ]
  },
  {
   "cell_type": "code",
   "execution_count": null,
   "id": "f2f8fe85",
   "metadata": {},
   "outputs": [
    {
     "name": "stdout",
     "output_type": "stream",
     "text": [
      "4\n"
     ]
    }
   ],
   "source": [
    "for i in range(5):\n",
    "  if(i==5):\n",
    "    break\n",
    "print(i)## this is a good usecase and its value is 4 because print in outside the loop so when loops end print statement will run and it will print(4) only\n"
   ]
  },
  {
   "cell_type": "code",
   "execution_count": null,
   "id": "f58b79f9",
   "metadata": {},
   "outputs": [
    {
     "name": "stdout",
     "output_type": "stream",
     "text": [
      "0\n",
      "1\n",
      "2\n",
      "3\n",
      "4\n"
     ]
    }
   ],
   "source": [
    "for i in range(10): ##break will break the loop when condition is true\n",
    "  if(i==5):\n",
    "    break\n",
    "  print(i)"
   ]
  },
  {
   "cell_type": "code",
   "execution_count": 5,
   "id": "8c51a5fd",
   "metadata": {},
   "outputs": [
    {
     "name": "stdout",
     "output_type": "stream",
     "text": [
      " 1  2  3  4  5  6  7  8  9 10 \n",
      "11 12 13 14 15 16 17 18 19 20 \n",
      "21 22 23 24 25 26 27 28 29 30 \n",
      "31 32 33 34 35 36 37 38 39 40 \n",
      "41 42 43 44 45 46 47 48 49 50 \n",
      "51 52 53 54 55 56 57 58 59 60 \n",
      "61 62 63 64 65 66 67 68 69 70 \n",
      "71 72 73 74 75 76 77 78 79 80 \n",
      "81 82 83 84 85 86 87 88 89 90 \n",
      "91 92 93 94 95 96 97 98 99 100 \n"
     ]
    }
   ],
   "source": [
    "##print a number from 1 t0 100 using nested loop\n",
    "\n",
    "for i in range(1,100,10):\n",
    "  \n",
    "  for k in range(i,i+10):\n",
    "    print(f\"{k:2}\" ,end=\" \")\n",
    "  print()\n",
    "    \n",
    "# first you need to know how many times nested loop need to run \n",
    "  \n",
    "     \n",
    "\n",
    "  \n",
    " \n",
    "\n",
    "\n",
    "\n",
    "\n"
   ]
  },
  {
   "cell_type": "code",
   "execution_count": 24,
   "id": "07ace474",
   "metadata": {},
   "outputs": [
    {
     "name": "stdout",
     "output_type": "stream",
     "text": [
      "<class 'list'>\n",
      "[1, 3, 4, 5]\n"
     ]
    }
   ],
   "source": [
    "# LIST\n",
    "p = [1,3,4,5]\n",
    "t =p.copy()\n",
    "print(type(p))\n",
    "print(t)\n"
   ]
  },
  {
   "cell_type": "code",
   "execution_count": null,
   "id": "69426024",
   "metadata": {},
   "outputs": [],
   "source": []
  }
 ],
 "metadata": {
  "kernelspec": {
   "display_name": "myvenv",
   "language": "python",
   "name": "python3"
  },
  "language_info": {
   "codemirror_mode": {
    "name": "ipython",
    "version": 3
   },
   "file_extension": ".py",
   "mimetype": "text/x-python",
   "name": "python",
   "nbconvert_exporter": "python",
   "pygments_lexer": "ipython3",
   "version": "3.12.2"
  }
 },
 "nbformat": 4,
 "nbformat_minor": 5
}
